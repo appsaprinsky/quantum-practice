{
 "cells": [
  {
   "cell_type": "code",
   "execution_count": 35,
   "id": "873c79de-65bb-40d3-8e65-9d16fd326923",
   "metadata": {},
   "outputs": [],
   "source": [
    "from qiskit import *"
   ]
  },
  {
   "cell_type": "code",
   "execution_count": 3,
   "id": "e83dc086-f74b-43f5-b201-bfa2ad0cbc59",
   "metadata": {},
   "outputs": [],
   "source": [
    "import matplotlib.pyplot as plt\n",
    "from pylatexenc import *\n",
    "%matplotlib inline"
   ]
  },
  {
   "cell_type": "code",
   "execution_count": 5,
   "id": "64c5cda0-e18b-48f6-83f1-b16f96a6e8e8",
   "metadata": {},
   "outputs": [
    {
     "data": {
      "text/html": [
       "<pre style=\"word-wrap: normal;white-space: pre;background: #fff0;line-height: 1.1;font-family: &quot;Courier New&quot;,Courier,monospace\">     \n",
       "q_0: \n",
       "     \n",
       "q_1: \n",
       "     \n",
       "c: 2/\n",
       "     </pre>"
      ],
      "text/plain": [
       "     \n",
       "q_0: \n",
       "     \n",
       "q_1: \n",
       "     \n",
       "c: 2/\n",
       "     "
      ]
     },
     "execution_count": 5,
     "metadata": {},
     "output_type": "execute_result"
    }
   ],
   "source": [
    "QuantumCircuit(2,2).draw()"
   ]
  },
  {
   "cell_type": "code",
   "execution_count": 7,
   "id": "4f07caac-908e-4b54-9407-38d49c11b164",
   "metadata": {},
   "outputs": [
    {
     "name": "stderr",
     "output_type": "stream",
     "text": [
      "/opt/anaconda3/envs/quantum_start/lib/python3.12/site-packages/qiskit/visualization/circuit/circuit_visualization.py:355: UserWarning: FigureCanvasAgg is non-interactive, and thus cannot be shown\n",
      "  image.show()\n"
     ]
    },
    {
     "data": {
      "image/png": "[encoded data removed]",
      "text/plain": [
       "<Figure size 161.878x284.278 with 1 Axes>"
      ]
     },
     "execution_count": 7,
     "metadata": {},
     "output_type": "execute_result"
    }
   ],
   "source": [
    "QuantumCircuit(2,2).draw('mpl', interactive=True)"
   ]
  },
  {
   "cell_type": "code",
   "execution_count": 9,
   "id": "3e8873ea-8596-4471-8d43-8fbdbf4763af",
   "metadata": {},
   "outputs": [],
   "source": [
    "qreg1 = QuantumRegister(size = 2, name = \"qrg1\")\n",
    "qreg2 = QuantumRegister(1, \"qrg2\")\n",
    "creg = ClassicalRegister(1, \"oldschool\")\n",
    "\n",
    "qc = QuantumCircuit(qreg1, creg, qreg2)\n"
   ]
  },
  {
   "cell_type": "code",
   "execution_count": 11,
   "id": "df1827a3-899f-4402-adf4-52e5626ba2cf",
   "metadata": {},
   "outputs": [
    {
     "data": {
      "text/html": [
       "<pre style=\"word-wrap: normal;white-space: pre;background: #fff0;line-height: 1.1;font-family: &quot;Courier New&quot;,Courier,monospace\">             \n",
       "     qrg1_0: \n",
       "             \n",
       "     qrg1_1: \n",
       "             \n",
       "       qrg2: \n",
       "             \n",
       "oldschool: 1/\n",
       "             </pre>"
      ],
      "text/plain": [
       "             \n",
       "     qrg1_0: \n",
       "             \n",
       "     qrg1_1: \n",
       "             \n",
       "       qrg2: \n",
       "             \n",
       "oldschool: 1/\n",
       "             "
      ]
     },
     "execution_count": 11,
     "metadata": {},
     "output_type": "execute_result"
    }
   ],
   "source": [
    "qc.draw()"
   ]
  },
  {
   "cell_type": "code",
   "execution_count": 13,
   "id": "4dc33c0b-f489-4cb3-b631-c0b3942bf807",
   "metadata": {},
   "outputs": [
    {
     "data": {
      "image/png": "[encoded data removed]",
      "text/plain": [
       "<Figure size 262.021x367.889 with 1 Axes>"
      ]
     },
     "execution_count": 13,
     "metadata": {},
     "output_type": "execute_result"
    }
   ],
   "source": [
    "qc.draw('mpl') # init with |0>"
   ]
  },
  {
   "cell_type": "code",
   "execution_count": 15,
   "id": "885ba996-cb3c-4feb-99a5-6231f1700bc9",
   "metadata": {},
   "outputs": [
    {
     "data": {
      "image/png": "[encoded data removed]",
      "text/plain": [
       "<Figure size 370.906x200.667 with 1 Axes>"
      ]
     },
     "execution_count": 15,
     "metadata": {},
     "output_type": "execute_result"
    }
   ],
   "source": [
    "import numpy as np\n",
    "\n",
    "qc = QuantumCircuit(2) # Initialise the circuit.\n",
    "\n",
    "# We can now apply the gates sequentially.\n",
    "qc.x(0)\n",
    "qc.rx(np.pi/4, 1)\n",
    "qc.cx(0, 1)\n",
    "qc.u(np.pi/3, 0, np.pi, 0)\n",
    "\n",
    "qc.draw(\"mpl\")"
   ]
  },
  {
   "cell_type": "code",
   "execution_count": 25,
   "id": "ce0b5646-5ccb-4b6a-9146-5b831741b4be",
   "metadata": {},
   "outputs": [],
   "source": [
    "import qiskit_aer"
   ]
  },
  {
   "cell_type": "code",
   "execution_count": 73,
   "id": "b4a265fd-0bba-4d4e-8a5f-911c907f012f",
   "metadata": {},
   "outputs": [],
   "source": [
    "from qiskit_aer import AerSimulator#, IBMQ"
   ]
  },
  {
   "cell_type": "code",
   "execution_count": 71,
   "id": "aa843a9a-f58d-4ce8-b145-1420bca343bd",
   "metadata": {},
   "outputs": [],
   "source": [
    "# from qiskit import IBMQ"
   ]
  },
  {
   "cell_type": "code",
   "execution_count": 31,
   "id": "cfefc60d-25da-4d93-b459-440e88e43661",
   "metadata": {},
   "outputs": [],
   "source": [
    "sim = AerSimulator()\n",
    "sim_GPU = AerSimulator(device = 'GPU')"
   ]
  },
  {
   "cell_type": "code",
   "execution_count": 63,
   "id": "0f30e199-94ad-4ccc-bf78-053c77403921",
   "metadata": {},
   "outputs": [
    {
     "name": "stdout",
     "output_type": "stream",
     "text": [
      "{'01': 502, '00': 522}\n"
     ]
    }
   ],
   "source": [
    "qc = QuantumCircuit(2, 2)\n",
    "qc.h(0)\n",
    "qc.measure(range(2), range(2))\n",
    "\n",
    "compiled_circuit = transpile(qc, sim)\n",
    "\n",
    "\n",
    "sim_result = sim.run(compiled_circuit).result()\n",
    "counts = sim_result.get_counts()\n",
    "\n",
    "# result = job.result()\n",
    "# counts = result.get_counts()\n",
    "print(counts)"
   ]
  },
  {
   "cell_type": "code",
   "execution_count": 85,
   "id": "b17140a7-9dfd-4c63-b698-84bcf17b5b79",
   "metadata": {},
   "outputs": [
    {
     "name": "stdout",
     "output_type": "stream",
     "text": [
      "Collecting qiskit-ibm-runtime\n",
      "  Downloading qiskit_ibm_runtime-0.34.0-py3-none-any.whl.metadata (3.0 kB)\n",
      "Requirement already satisfied: requests>=2.19 in /opt/anaconda3/envs/quantum_start/lib/python3.12/site-packages (from qiskit-ibm-runtime) (2.32.3)\n",
      "Collecting requests-ntlm>=1.1.0 (from qiskit-ibm-runtime)\n",
      "  Downloading requests_ntlm-1.3.0-py3-none-any.whl.metadata (2.4 kB)\n",
      "Requirement already satisfied: numpy>=1.13 in /opt/anaconda3/envs/quantum_start/lib/python3.12/site-packages (from qiskit-ibm-runtime) (2.2.2)\n",
      "Requirement already satisfied: urllib3>=1.21.1 in /opt/anaconda3/envs/quantum_start/lib/python3.12/site-packages (from qiskit-ibm-runtime) (2.3.0)\n",
      "Requirement already satisfied: python-dateutil>=2.8.0 in /opt/anaconda3/envs/quantum_start/lib/python3.12/site-packages (from qiskit-ibm-runtime) (2.9.0.post0)\n",
      "Requirement already satisfied: websocket-client>=1.5.1 in /opt/anaconda3/envs/quantum_start/lib/python3.12/site-packages (from qiskit-ibm-runtime) (1.8.0)\n",
      "Collecting ibm-platform-services>=0.22.6 (from qiskit-ibm-runtime)\n",
      "  Downloading ibm_platform_services-0.59.1-py3-none-any.whl.metadata (9.0 kB)\n",
      "Collecting pydantic<2.10,>=2.5.0 (from qiskit-ibm-runtime)\n",
      "  Downloading pydantic-2.9.2-py3-none-any.whl.metadata (149 kB)\n",
      "Requirement already satisfied: qiskit>=1.1.0 in /opt/anaconda3/envs/quantum_start/lib/python3.12/site-packages (from qiskit-ibm-runtime) (1.3.2)\n",
      "Collecting ibm_cloud_sdk_core<4.0.0,>=3.22.0 (from ibm-platform-services>=0.22.6->qiskit-ibm-runtime)\n",
      "  Downloading ibm_cloud_sdk_core-3.22.1-py3-none-any.whl.metadata (8.6 kB)\n",
      "Collecting annotated-types>=0.6.0 (from pydantic<2.10,>=2.5.0->qiskit-ibm-runtime)\n",
      "  Downloading annotated_types-0.7.0-py3-none-any.whl.metadata (15 kB)\n",
      "Collecting pydantic-core==2.23.4 (from pydantic<2.10,>=2.5.0->qiskit-ibm-runtime)\n",
      "  Downloading pydantic_core-2.23.4-cp312-cp312-macosx_11_0_arm64.whl.metadata (6.6 kB)\n",
      "Requirement already satisfied: typing-extensions>=4.6.1 in /opt/anaconda3/envs/quantum_start/lib/python3.12/site-packages (from pydantic<2.10,>=2.5.0->qiskit-ibm-runtime) (4.12.2)\n",
      "Requirement already satisfied: six>=1.5 in /opt/anaconda3/envs/quantum_start/lib/python3.12/site-packages (from python-dateutil>=2.8.0->qiskit-ibm-runtime) (1.16.0)\n",
      "Requirement already satisfied: rustworkx>=0.15.0 in /opt/anaconda3/envs/quantum_start/lib/python3.12/site-packages (from qiskit>=1.1.0->qiskit-ibm-runtime) (0.15.1)\n",
      "Requirement already satisfied: scipy>=1.5 in /opt/anaconda3/envs/quantum_start/lib/python3.12/site-packages (from qiskit>=1.1.0->qiskit-ibm-runtime) (1.15.1)\n",
      "Requirement already satisfied: sympy>=1.3 in /opt/anaconda3/envs/quantum_start/lib/python3.12/site-packages (from qiskit>=1.1.0->qiskit-ibm-runtime) (1.13.3)\n",
      "Requirement already satisfied: dill>=0.3 in /opt/anaconda3/envs/quantum_start/lib/python3.12/site-packages (from qiskit>=1.1.0->qiskit-ibm-runtime) (0.3.9)\n",
      "Requirement already satisfied: stevedore>=3.0.0 in /opt/anaconda3/envs/quantum_start/lib/python3.12/site-packages (from qiskit>=1.1.0->qiskit-ibm-runtime) (5.4.0)\n",
      "Requirement already satisfied: symengine<0.14,>=0.11 in /opt/anaconda3/envs/quantum_start/lib/python3.12/site-packages (from qiskit>=1.1.0->qiskit-ibm-runtime) (0.13.0)\n",
      "Requirement already satisfied: charset-normalizer<4,>=2 in /opt/anaconda3/envs/quantum_start/lib/python3.12/site-packages (from requests>=2.19->qiskit-ibm-runtime) (3.3.2)\n",
      "Requirement already satisfied: idna<4,>=2.5 in /opt/anaconda3/envs/quantum_start/lib/python3.12/site-packages (from requests>=2.19->qiskit-ibm-runtime) (3.7)\n",
      "Requirement already satisfied: certifi>=2017.4.17 in /opt/anaconda3/envs/quantum_start/lib/python3.12/site-packages (from requests>=2.19->qiskit-ibm-runtime) (2024.12.14)\n",
      "Collecting cryptography>=1.3 (from requests-ntlm>=1.1.0->qiskit-ibm-runtime)\n",
      "  Downloading cryptography-44.0.0-cp39-abi3-macosx_10_9_universal2.whl.metadata (5.7 kB)\n",
      "Collecting pyspnego>=0.4.0 (from requests-ntlm>=1.1.0->qiskit-ibm-runtime)\n",
      "  Downloading pyspnego-0.11.2-py3-none-any.whl.metadata (5.4 kB)\n",
      "Requirement already satisfied: cffi>=1.12 in /opt/anaconda3/envs/quantum_start/lib/python3.12/site-packages (from cryptography>=1.3->requests-ntlm>=1.1.0->qiskit-ibm-runtime) (1.17.1)\n",
      "Collecting PyJWT<3.0.0,>=2.8.0 (from ibm_cloud_sdk_core<4.0.0,>=3.22.0->ibm-platform-services>=0.22.6->qiskit-ibm-runtime)\n",
      "  Downloading PyJWT-2.10.1-py3-none-any.whl.metadata (4.0 kB)\n",
      "Requirement already satisfied: pbr>=2.0.0 in /opt/anaconda3/envs/quantum_start/lib/python3.12/site-packages (from stevedore>=3.0.0->qiskit>=1.1.0->qiskit-ibm-runtime) (6.1.0)\n",
      "Requirement already satisfied: mpmath<1.4,>=1.1.0 in /opt/anaconda3/envs/quantum_start/lib/python3.12/site-packages (from sympy>=1.3->qiskit>=1.1.0->qiskit-ibm-runtime) (1.3.0)\n",
      "Requirement already satisfied: pycparser in /opt/anaconda3/envs/quantum_start/lib/python3.12/site-packages (from cffi>=1.12->cryptography>=1.3->requests-ntlm>=1.1.0->qiskit-ibm-runtime) (2.21)\n",
      "Downloading qiskit_ibm_runtime-0.34.0-py3-none-any.whl (3.0 MB)\n",
      "\u001b[2K   \u001b[90m━━━━━━━━━━━━━━━━━━━━━━━━━━━━━━━━━━━━━━━━\u001b[0m \u001b[32m3.0/3.0 MB\u001b[0m \u001b[31m1.7 MB/s\u001b[0m eta \u001b[36m0:00:00\u001b[0ma \u001b[36m0:00:01\u001b[0m\n",
      "\u001b[?25hDownloading ibm_platform_services-0.59.1-py3-none-any.whl (340 kB)\n",
      "Downloading pydantic-2.9.2-py3-none-any.whl (434 kB)\n",
      "Downloading pydantic_core-2.23.4-cp312-cp312-macosx_11_0_arm64.whl (1.8 MB)\n",
      "\u001b[2K   \u001b[90m━━━━━━━━━━━━━━━━━━━━━━━━━━━━━━━━━━━━━━━━\u001b[0m \u001b[32m1.8/1.8 MB\u001b[0m \u001b[31m1.2 MB/s\u001b[0m eta \u001b[36m0:00:00\u001b[0ma \u001b[36m0:00:01\u001b[0m\n",
      "\u001b[?25hDownloading requests_ntlm-1.3.0-py3-none-any.whl (6.6 kB)\n",
      "Downloading annotated_types-0.7.0-py3-none-any.whl (13 kB)\n",
      "Downloading cryptography-44.0.0-cp39-abi3-macosx_10_9_universal2.whl (6.5 MB)\n",
      "\u001b[2K   \u001b[90m━━━━━━━━━━━━━━━━━━━━━━━━━━━━━━━━━━━━━━━━\u001b[0m \u001b[32m6.5/6.5 MB\u001b[0m \u001b[31m1.1 MB/s\u001b[0m eta \u001b[36m0:00:00\u001b[0ma \u001b[36m0:00:01\u001b[0m0m\n",
      "\u001b[?25hDownloading ibm_cloud_sdk_core-3.22.1-py3-none-any.whl (69 kB)\n",
      "Downloading pyspnego-0.11.2-py3-none-any.whl (130 kB)\n",
      "Downloading PyJWT-2.10.1-py3-none-any.whl (22 kB)\n",
      "Installing collected packages: PyJWT, pydantic-core, annotated-types, pydantic, ibm_cloud_sdk_core, cryptography, pyspnego, ibm-platform-services, requests-ntlm, qiskit-ibm-runtime\n",
      "Successfully installed PyJWT-2.10.1 annotated-types-0.7.0 cryptography-44.0.0 ibm-platform-services-0.59.1 ibm_cloud_sdk_core-3.22.1 pydantic-2.9.2 pydantic-core-2.23.4 pyspnego-0.11.2 qiskit-ibm-runtime-0.34.0 requests-ntlm-1.3.0\n"
     ]
    }
   ],
   "source": [
    "!pip install qiskit-ibm-runtime"
   ]
  },
  {
   "cell_type": "code",
   "execution_count": 87,
   "id": "d1b1a64b-3f58-499b-b8df-f8dd5cc5b21a",
   "metadata": {},
   "outputs": [
    {
     "ename": "NameError",
     "evalue": "name 'iBMQ' is not defined",
     "output_type": "error",
     "traceback": [
      "\u001b[0;31m---------------------------------------------------------------------------\u001b[0m",
      "\u001b[0;31mNameError\u001b[0m                                 Traceback (most recent call last)",
      "Cell \u001b[0;32mIn[87], line 5\u001b[0m\n\u001b[1;32m      1\u001b[0m \u001b[38;5;66;03m# eca8a196cd373ebb7b73b8b9ef8d6166ed0cbcbc71d2d2e8464e2609c1e6013f444efc6f931202eb410de69f309ff175bbdbdeeff38c4e528a83a09a72e26b15\u001b[39;00m\n\u001b[1;32m      4\u001b[0m ibm_token\u001b[38;5;241m=\u001b[39m\u001b[38;5;124m\"\u001b[39m\u001b[38;5;124meca8a196cd373ebb7b73b8b9ef8d6166ed0cbcbc71d2d2e8464e2609c1e6013f444efc6f931202eb410de69f309ff175bbdbdeeff38c4e528a83a09a72e26b15\u001b[39m\u001b[38;5;124m\"\u001b[39m\n\u001b[0;32m----> 5\u001b[0m iBMQ\u001b[38;5;241m.\u001b[39msave_account(ibm_token)\n\u001b[1;32m      6\u001b[0m provider \u001b[38;5;241m=\u001b[39m IBMQ\u001b[38;5;241m.\u001b[39mload_account()\n\u001b[1;32m      7\u001b[0m \u001b[38;5;28mprint\u001b[39m(provider\u001b[38;5;241m.\u001b[39mbackends(simulator \u001b[38;5;241m=\u001b[39m \u001b[38;5;28;01mFalse\u001b[39;00m))\n",
      "\u001b[0;31mNameError\u001b[0m: name 'iBMQ' is not defined"
     ]
    }
   ],
   "source": [
    "# eca8a196cd373ebb7b73b8b9ef8d6166ed0cbcbc71d2d2e8464e2609c1e6013f444efc6f931202eb410de69f309ff175bbdbdeeff38c4e528a83a09a72e26b15\n",
    "\n",
    "\n",
    "ibm_token=\"eca8a196cd373ebb7b73b8b9ef8d6166ed0cbcbc71d2d2e8464e2609c1e6013f444efc6f931202eb410de69f309ff175bbdbdeeff38c4e528a83a09a72e26b15\"\n",
    "iBMQ.save_account(ibm_token)\n",
    "provider = IBMQ.load_account()\n",
    "print(provider.backends(simulator = False))"
   ]
  },
  {
   "cell_type": "code",
   "execution_count": null,
   "id": "3b1ed026-6e20-454b-b07c-4170175c9365",
   "metadata": {},
   "outputs": [],
   "source": []
  },
  {
   "cell_type": "code",
   "execution_count": null,
   "id": "15a09e29-73e4-4fbf-8c7d-2aea16010c2e",
   "metadata": {},
   "outputs": [],
   "source": []
  },
  {
   "cell_type": "code",
   "execution_count": null,
   "id": "b9b6d0af-05c8-4b6e-9ca8-4a4ab621119a",
   "metadata": {},
   "outputs": [],
   "source": []
  }
 ],
 "metadata": {
  "kernelspec": {
   "display_name": "Python [conda env:quantum_start]",
   "language": "python",
   "name": "conda-env-quantum_start-py"
  },
  "language_info": {
   "codemirror_mode": {
    "name": "ipython",
    "version": 3
   },
   "file_extension": ".py",
   "mimetype": "text/x-python",
   "name": "python",
   "nbconvert_exporter": "python",
   "pygments_lexer": "ipython3",
   "version": "3.12.8"
  }
 },
 "nbformat": 4,
 "nbformat_minor": 5
}

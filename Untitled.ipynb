{
 "cells": [
  {
   "cell_type": "code",
   "execution_count": 8,
   "id": "6de6de17-dc58-4e92-9c46-b0485785582f",
   "metadata": {},
   "outputs": [],
   "source": [
    "import pennylane as qml"
   ]
  },
  {
   "cell_type": "code",
   "execution_count": 10,
   "id": "ee946e94-e3bb-4eac-a112-e1eb38a99c0b",
   "metadata": {},
   "outputs": [],
   "source": [
    "dev = qml.device('default.qubit', wires = 2)"
   ]
  },
  {
   "cell_type": "code",
   "execution_count": 13,
   "id": "feeb9f74-e5aa-484e-afe9-2595f4940dfd",
   "metadata": {},
   "outputs": [],
   "source": [
    "def qc():\n",
    "    qml.PauliX(wires = 0)\n",
    "    qml.Hadamard(wires = 0)\n",
    "    return qml.state()"
   ]
  },
  {
   "cell_type": "code",
   "execution_count": 15,
   "id": "f86a04df-6991-4aee-a265-f68eac1e2d26",
   "metadata": {},
   "outputs": [
    {
     "data": {
      "text/plain": [
       "tensor([ 0.70710678+0.j,  0.        +0.j, -0.70710678+0.j,\n",
       "         0.        +0.j], requires_grad=True)"
      ]
     },
     "execution_count": 15,
     "metadata": {},
     "output_type": "execute_result"
    }
   ],
   "source": [
    "qcirc = qml.QNode(qc, dev) # Assemble the circuit & the device.\n",
    "qcirc() # Run it!"
   ]
  },
  {
   "cell_type": "code",
   "execution_count": 17,
   "id": "9c875567-48db-4dad-a78c-6564a9e751e1",
   "metadata": {},
   "outputs": [
    {
     "data": {
      "text/plain": [
       "tensor([ 0.70710678+0.j,  0.        +0.j, -0.70710678+0.j,\n",
       "         0.        +0.j], requires_grad=True)"
      ]
     },
     "execution_count": 17,
     "metadata": {},
     "output_type": "execute_result"
    }
   ],
   "source": [
    "@qml.qnode(dev) # We add this decorator to use the device dev.\n",
    "def qcirc():\n",
    "    qml.PauliX(wires = 0)\n",
    "    qml.Hadamard(wires = 0)\n",
    "    return qml.state()\n",
    "    \n",
    "# Now qcirc is already a QNode. We can just run it!\n",
    "qcirc()"
   ]
  },
  {
   "cell_type": "code",
   "execution_count": 19,
   "id": "ff08813d-a4ca-4d77-9503-62d9b1b149e6",
   "metadata": {},
   "outputs": [],
   "source": [
    "dev = qml.device('default.qubit', wires = 1)\n",
    "@qml.qnode(dev)\n",
    "def qcirc(theta):\n",
    "    qml.RX(theta, wires = 0)\n",
    "    return qml.state()"
   ]
  },
  {
   "cell_type": "code",
   "execution_count": 21,
   "id": "5326e17b-4210-435a-a9be-130072269cb3",
   "metadata": {},
   "outputs": [
    {
     "name": "stdout",
     "output_type": "stream",
     "text": [
      "0: ──RX(2.00)─┤  State\n"
     ]
    }
   ],
   "source": [
    "\n",
    "print(qml.draw(qcirc)(theta = 2))"
   ]
  },
  {
   "cell_type": "code",
   "execution_count": 23,
   "id": "00643169-9a82-46fd-a630-a697ff03003e",
   "metadata": {},
   "outputs": [
    {
     "name": "stdout",
     "output_type": "stream",
     "text": [
      "Probs. wires [1, 2] with H in wire 1: [0.5 0.  0.5 0. ]\n",
      "Sample 1 after H: [1 0 0 1]\n",
      "Sample 2 after H x I: [[0 0]\n",
      " [1 0]\n",
      " [0 0]\n",
      " [1 0]]\n"
     ]
    }
   ],
   "source": [
    "dev = qml.device('default.qubit', wires = 3)\n",
    "\n",
    "# Get probabilities\n",
    "@qml.qnode(dev)\n",
    "def qcirc():\n",
    "    qml.Hadamard(wires = 1)\n",
    "    return qml.probs(wires = [1, 2]) # Only the last 2 wires.\n",
    "prob = qcirc()\n",
    "print(\"Probs. wires [1, 2] with H in wire 1:\", prob)\n",
    "\n",
    "# Get a sample, not having specified shots in the device.\n",
    "@qml.qnode(dev)\n",
    "def qcirc():\n",
    "    qml.Hadamard(wires = 0)\n",
    "    return qml.sample(wires = 0) # Only the first wire.\n",
    "s1 = qcirc(shots = 4) # We specify the shots here.\n",
    "print(\"Sample 1 after H:\", s1)\n",
    "\n",
    "# Get a sample with shots in the device.\n",
    "dev = qml.device('default.qubit', wires = 2, shots = 4)\n",
    "@qml.qnode(dev)\n",
    "def qcirc():\n",
    "    qml.Hadamard(wires=0)\n",
    "    return qml.sample() # Will sample all wires.\n",
    "s2 = qcirc()\n",
    "print(\"Sample 2 after H x I:\", s2)"
   ]
  },
  {
   "cell_type": "code",
   "execution_count": 25,
   "id": "73f12a98-102e-420e-b368-b784e1481c2d",
   "metadata": {},
   "outputs": [
    {
     "ename": "ImportError",
     "evalue": "cannot import name 'extensions' from 'qiskit' (/opt/anaconda3/envs/quantum_start/lib/python3.12/site-packages/qiskit/__init__.py)",
     "output_type": "error",
     "traceback": [
      "\u001b[0;31m---------------------------------------------------------------------------\u001b[0m",
      "\u001b[0;31mImportError\u001b[0m                               Traceback (most recent call last)",
      "Cell \u001b[0;32mIn[25], line 1\u001b[0m\n\u001b[0;32m----> 1\u001b[0m dev \u001b[38;5;241m=\u001b[39m qml\u001b[38;5;241m.\u001b[39mdevice(\u001b[38;5;124m'\u001b[39m\u001b[38;5;124mqiskit.aer\u001b[39m\u001b[38;5;124m'\u001b[39m, wires \u001b[38;5;241m=\u001b[39m \u001b[38;5;241m2\u001b[39m)\n\u001b[1;32m      2\u001b[0m \u001b[38;5;129m@qml\u001b[39m\u001b[38;5;241m.\u001b[39mqnode(dev)\n\u001b[1;32m      3\u001b[0m \u001b[38;5;28;01mdef\u001b[39;00m \u001b[38;5;21mqcirc\u001b[39m():\n\u001b[1;32m      4\u001b[0m     qml\u001b[38;5;241m.\u001b[39mHadamard(wires \u001b[38;5;241m=\u001b[39m \u001b[38;5;241m0\u001b[39m)\n",
      "File \u001b[0;32m/opt/anaconda3/envs/quantum_start/lib/python3.12/site-packages/pennylane/__init__.py:311\u001b[0m, in \u001b[0;36mdevice\u001b[0;34m(name, *args, **kwargs)\u001b[0m\n\u001b[1;32m    308\u001b[0m options\u001b[38;5;241m.\u001b[39mupdate(kwargs)\n\u001b[1;32m    310\u001b[0m \u001b[38;5;66;03m# loads the device class\u001b[39;00m\n\u001b[0;32m--> 311\u001b[0m plugin_device_class \u001b[38;5;241m=\u001b[39m plugin_devices[name]\u001b[38;5;241m.\u001b[39mload()\n\u001b[1;32m    313\u001b[0m \u001b[38;5;28;01mif\u001b[39;00m Version(version()) \u001b[38;5;129;01mnot\u001b[39;00m \u001b[38;5;129;01min\u001b[39;00m SimpleSpec(plugin_device_class\u001b[38;5;241m.\u001b[39mpennylane_requires):\n\u001b[1;32m    314\u001b[0m     \u001b[38;5;28;01mraise\u001b[39;00m DeviceError(\n\u001b[1;32m    315\u001b[0m         \u001b[38;5;124mf\u001b[39m\u001b[38;5;124m\"\u001b[39m\u001b[38;5;124mThe \u001b[39m\u001b[38;5;132;01m{\u001b[39;00mname\u001b[38;5;132;01m}\u001b[39;00m\u001b[38;5;124m plugin requires PennyLane versions \u001b[39m\u001b[38;5;132;01m{\u001b[39;00mplugin_device_class\u001b[38;5;241m.\u001b[39mpennylane_requires\u001b[38;5;132;01m}\u001b[39;00m\u001b[38;5;124m, \u001b[39m\u001b[38;5;124m\"\u001b[39m\n\u001b[1;32m    316\u001b[0m         \u001b[38;5;124mf\u001b[39m\u001b[38;5;124m\"\u001b[39m\u001b[38;5;124mhowever PennyLane version \u001b[39m\u001b[38;5;132;01m{\u001b[39;00m__version__\u001b[38;5;132;01m}\u001b[39;00m\u001b[38;5;124m is installed.\u001b[39m\u001b[38;5;124m\"\u001b[39m\n\u001b[1;32m    317\u001b[0m     )\n",
      "File \u001b[0;32m/opt/anaconda3/envs/quantum_start/lib/python3.12/site-packages/pkg_resources/__init__.py:2781\u001b[0m, in \u001b[0;36mEntryPoint.load\u001b[0;34m(self, require, *args, **kwargs)\u001b[0m\n\u001b[1;32m   2777\u001b[0m \u001b[38;5;28;01mif\u001b[39;00m require:\n\u001b[1;32m   2778\u001b[0m     \u001b[38;5;66;03m# We could pass `env` and `installer` directly,\u001b[39;00m\n\u001b[1;32m   2779\u001b[0m     \u001b[38;5;66;03m# but keeping `*args` and `**kwargs` for backwards compatibility\u001b[39;00m\n\u001b[1;32m   2780\u001b[0m     \u001b[38;5;28mself\u001b[39m\u001b[38;5;241m.\u001b[39mrequire(\u001b[38;5;241m*\u001b[39margs, \u001b[38;5;241m*\u001b[39m\u001b[38;5;241m*\u001b[39mkwargs)  \u001b[38;5;66;03m# type: ignore\u001b[39;00m\n\u001b[0;32m-> 2781\u001b[0m \u001b[38;5;28;01mreturn\u001b[39;00m \u001b[38;5;28mself\u001b[39m\u001b[38;5;241m.\u001b[39mresolve()\n",
      "File \u001b[0;32m/opt/anaconda3/envs/quantum_start/lib/python3.12/site-packages/pkg_resources/__init__.py:2787\u001b[0m, in \u001b[0;36mEntryPoint.resolve\u001b[0;34m(self)\u001b[0m\n\u001b[1;32m   2783\u001b[0m \u001b[38;5;28;01mdef\u001b[39;00m \u001b[38;5;21mresolve\u001b[39m(\u001b[38;5;28mself\u001b[39m) \u001b[38;5;241m-\u001b[39m\u001b[38;5;241m>\u001b[39m _ResolvedEntryPoint:\n\u001b[1;32m   2784\u001b[0m \u001b[38;5;250m    \u001b[39m\u001b[38;5;124;03m\"\"\"\u001b[39;00m\n\u001b[1;32m   2785\u001b[0m \u001b[38;5;124;03m    Resolve the entry point from its module and attrs.\u001b[39;00m\n\u001b[1;32m   2786\u001b[0m \u001b[38;5;124;03m    \"\"\"\u001b[39;00m\n\u001b[0;32m-> 2787\u001b[0m     module \u001b[38;5;241m=\u001b[39m \u001b[38;5;28m__import__\u001b[39m(\u001b[38;5;28mself\u001b[39m\u001b[38;5;241m.\u001b[39mmodule_name, fromlist\u001b[38;5;241m=\u001b[39m[\u001b[38;5;124m'\u001b[39m\u001b[38;5;124m__name__\u001b[39m\u001b[38;5;124m'\u001b[39m], level\u001b[38;5;241m=\u001b[39m\u001b[38;5;241m0\u001b[39m)\n\u001b[1;32m   2788\u001b[0m     \u001b[38;5;28;01mtry\u001b[39;00m:\n\u001b[1;32m   2789\u001b[0m         \u001b[38;5;28;01mreturn\u001b[39;00m functools\u001b[38;5;241m.\u001b[39mreduce(\u001b[38;5;28mgetattr\u001b[39m, \u001b[38;5;28mself\u001b[39m\u001b[38;5;241m.\u001b[39mattrs, module)\n",
      "File \u001b[0;32m/opt/anaconda3/envs/quantum_start/lib/python3.12/site-packages/pennylane_qiskit/__init__.py:17\u001b[0m\n\u001b[1;32m     14\u001b[0m \u001b[38;5;124;03m\"\"\"Top level PennyLane-qiskit module\"\"\"\u001b[39;00m\n\u001b[1;32m     16\u001b[0m \u001b[38;5;28;01mfrom\u001b[39;00m \u001b[38;5;21;01m.\u001b[39;00m\u001b[38;5;21;01m_version\u001b[39;00m \u001b[38;5;28;01mimport\u001b[39;00m __version__\n\u001b[0;32m---> 17\u001b[0m \u001b[38;5;28;01mfrom\u001b[39;00m \u001b[38;5;21;01m.\u001b[39;00m\u001b[38;5;21;01maer\u001b[39;00m \u001b[38;5;28;01mimport\u001b[39;00m AerDevice\n\u001b[1;32m     18\u001b[0m \u001b[38;5;28;01mfrom\u001b[39;00m \u001b[38;5;21;01m.\u001b[39;00m\u001b[38;5;21;01mbasic_aer\u001b[39;00m \u001b[38;5;28;01mimport\u001b[39;00m BasicAerDevice\n\u001b[1;32m     19\u001b[0m \u001b[38;5;28;01mfrom\u001b[39;00m \u001b[38;5;21;01m.\u001b[39;00m\u001b[38;5;21;01mibmq\u001b[39;00m \u001b[38;5;28;01mimport\u001b[39;00m IBMQDevice\n",
      "File \u001b[0;32m/opt/anaconda3/envs/quantum_start/lib/python3.12/site-packages/pennylane_qiskit/aer.py:21\u001b[0m\n\u001b[1;32m     14\u001b[0m \u001b[38;5;124;03m\"\"\"\u001b[39;00m\n\u001b[1;32m     15\u001b[0m \u001b[38;5;124;03mThis module contains the :class:`~.AerDevice` class, a PennyLane device that allows\u001b[39;00m\n\u001b[1;32m     16\u001b[0m \u001b[38;5;124;03mevaluation and differentiation of Qiskit Aer's C++ simulator\u001b[39;00m\n\u001b[1;32m     17\u001b[0m \u001b[38;5;124;03musing PennyLane.\u001b[39;00m\n\u001b[1;32m     18\u001b[0m \u001b[38;5;124;03m\"\"\"\u001b[39;00m\n\u001b[1;32m     19\u001b[0m \u001b[38;5;28;01mimport\u001b[39;00m \u001b[38;5;21;01mqiskit\u001b[39;00m\n\u001b[0;32m---> 21\u001b[0m \u001b[38;5;28;01mfrom\u001b[39;00m \u001b[38;5;21;01m.\u001b[39;00m\u001b[38;5;21;01mqiskit_device\u001b[39;00m \u001b[38;5;28;01mimport\u001b[39;00m QiskitDevice\n\u001b[1;32m     24\u001b[0m \u001b[38;5;28;01mclass\u001b[39;00m \u001b[38;5;21;01mAerDevice\u001b[39;00m(QiskitDevice):\n\u001b[1;32m     25\u001b[0m \u001b[38;5;250m    \u001b[39m\u001b[38;5;124;03m\"\"\"A PennyLane device for the C++ Qiskit Aer simulator.\u001b[39;00m\n\u001b[1;32m     26\u001b[0m \n\u001b[1;32m     27\u001b[0m \u001b[38;5;124;03m    Please refer to the `Qiskit documentation <https://qiskit.org/documentation/>`_ for\u001b[39;00m\n\u001b[0;32m   (...)\u001b[0m\n\u001b[1;32m     52\u001b[0m \u001b[38;5;124;03m        noise_model (NoiseModel): NoiseModel Object from ``qiskit.providers.aer.noise``\u001b[39;00m\n\u001b[1;32m     53\u001b[0m \u001b[38;5;124;03m    \"\"\"\u001b[39;00m\n",
      "File \u001b[0;32m/opt/anaconda3/envs/quantum_start/lib/python3.12/site-packages/pennylane_qiskit/qiskit_device.py:26\u001b[0m\n\u001b[1;32m     24\u001b[0m \u001b[38;5;28;01mimport\u001b[39;00m \u001b[38;5;21;01mnumpy\u001b[39;00m \u001b[38;5;28;01mas\u001b[39;00m \u001b[38;5;21;01mnp\u001b[39;00m\n\u001b[1;32m     25\u001b[0m \u001b[38;5;28;01mfrom\u001b[39;00m \u001b[38;5;21;01mqiskit\u001b[39;00m \u001b[38;5;28;01mimport\u001b[39;00m ClassicalRegister, QuantumCircuit, QuantumRegister\n\u001b[0;32m---> 26\u001b[0m \u001b[38;5;28;01mfrom\u001b[39;00m \u001b[38;5;21;01mqiskit\u001b[39;00m \u001b[38;5;28;01mimport\u001b[39;00m extensions \u001b[38;5;28;01mas\u001b[39;00m ex\n\u001b[1;32m     27\u001b[0m \u001b[38;5;28;01mfrom\u001b[39;00m \u001b[38;5;21;01mqiskit\u001b[39;00m\u001b[38;5;21;01m.\u001b[39;00m\u001b[38;5;21;01mcompiler\u001b[39;00m \u001b[38;5;28;01mimport\u001b[39;00m transpile\n\u001b[1;32m     28\u001b[0m \u001b[38;5;28;01mfrom\u001b[39;00m \u001b[38;5;21;01mqiskit\u001b[39;00m\u001b[38;5;21;01m.\u001b[39;00m\u001b[38;5;21;01mconverters\u001b[39;00m \u001b[38;5;28;01mimport\u001b[39;00m circuit_to_dag, dag_to_circuit\n",
      "\u001b[0;31mImportError\u001b[0m: cannot import name 'extensions' from 'qiskit' (/opt/anaconda3/envs/quantum_start/lib/python3.12/site-packages/qiskit/__init__.py)"
     ]
    }
   ],
   "source": [
    "dev = qml.device('qiskit.aer', wires = 2)\n",
    "@qml.qnode(dev)\n",
    "def qcirc():\n",
    "    qml.Hadamard(wires = 0)\n",
    "    return qml.probs(wires = 0)\n",
    "s = qcirc()\n",
    "print(\"The probabilities are\", s)"
   ]
  },
  {
   "cell_type": "code",
   "execution_count": null,
   "id": "5f5e828b-d379-4559-896b-e136440c9d8d",
   "metadata": {},
   "outputs": [],
   "source": []
  },
  {
   "cell_type": "code",
   "execution_count": null,
   "id": "3ecefcc5-f8ce-47a2-bb04-fc6bb9e40e31",
   "metadata": {},
   "outputs": [],
   "source": []
  },
  {
   "cell_type": "code",
   "execution_count": null,
   "id": "12484609-cc08-4888-acd7-e48baf567410",
   "metadata": {},
   "outputs": [],
   "source": []
  },
  {
   "cell_type": "code",
   "execution_count": null,
   "id": "12e4481f-944b-4a7f-9c5e-c3bb69e49c04",
   "metadata": {},
   "outputs": [],
   "source": []
  },
  {
   "cell_type": "code",
   "execution_count": null,
   "id": "e1855769-6218-4abd-8db6-bffde50ce622",
   "metadata": {},
   "outputs": [],
   "source": []
  }
 ],
 "metadata": {
  "kernelspec": {
   "display_name": "Python [conda env:quantum_start]",
   "language": "python",
   "name": "conda-env-quantum_start-py"
  },
  "language_info": {
   "codemirror_mode": {
    "name": "ipython",
    "version": 3
   },
   "file_extension": ".py",
   "mimetype": "text/x-python",
   "name": "python",
   "nbconvert_exporter": "python",
   "pygments_lexer": "ipython3",
   "version": "3.12.8"
  }
 },
 "nbformat": 4,
 "nbformat_minor": 5
}

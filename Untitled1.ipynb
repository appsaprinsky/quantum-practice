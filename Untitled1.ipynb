{
 "cells": [
  {
   "cell_type": "code",
   "execution_count": 19,
   "id": "86ab8398-ca01-49c9-9c1e-cddc9041bd5e",
   "metadata": {},
   "outputs": [
    {
     "name": "stdout",
     "output_type": "stream",
     "text": [
      "Step 0: Cost = -0.7518899283491778\n",
      "Step 10: Cost = -0.9999952088593512\n",
      "Step 20: Cost = -0.9999999998248301\n",
      "Step 30: Cost = -0.9999999999999929\n",
      "Step 40: Cost = -0.9999999999999994\n",
      "Step 50: Cost = -1.0\n",
      "Step 60: Cost = -0.9999999999999996\n",
      "Step 70: Cost = -0.9999999999999993\n",
      "Step 80: Cost = -0.9999999999999993\n",
      "Step 90: Cost = -0.9999999999999993\n",
      "Final probabilities of states: [0.015625 0.015625 0.015625 0.078125 0.015625 0.265625 0.078125 0.015625\n",
      " 0.015625 0.078125 0.265625 0.015625 0.078125 0.015625 0.015625 0.015625]\n",
      "Best solution: 0101\n"
     ]
    },
    {
     "data": {
      "image/png": "[encoded data removed]",
      "text/plain": [
       "<Figure size 640x480 with 1 Axes>"
      ]
     },
     "metadata": {},
     "output_type": "display_data"
    }
   ],
   "source": [
    "import pennylane as qml\n",
    "from pennylane import numpy as np\n",
    "import matplotlib.pyplot as plt\n",
    "\n",
    "# Step 1: Define the graph for the Max-Cut problem\n",
    "edges = [(0, 1), (1, 2), (2, 3), (3, 0)]\n",
    "num_qubits = 4\n",
    "\n",
    "# Step 2: Define the cost Hamiltonian for the Max-Cut problem\n",
    "def cost_hamiltonian():\n",
    "    \"\"\"Returns the cost Hamiltonian for the Max-Cut problem.\"\"\"\n",
    "    coeffs = []\n",
    "    obs = []\n",
    "    for i, j in edges:\n",
    "        coeffs.append(0.5)\n",
    "        obs.append(qml.PauliZ(i) @ qml.PauliZ(j))\n",
    "    return qml.Hamiltonian(coeffs, obs)\n",
    "\n",
    "# Step 3: Define the mixer Hamiltonian\n",
    "def mixer_hamiltonian():\n",
    "    \"\"\"Returns the mixer Hamiltonian (transverse field).\"\"\"\n",
    "    coeffs = [-1.0] * num_qubits\n",
    "    obs = [qml.PauliX(i) for i in range(num_qubits)]\n",
    "    return qml.Hamiltonian(coeffs, obs)\n",
    "\n",
    "# Step 4: Define the QAOA circuit\n",
    "def qaoa_circuit(params, p):\n",
    "    \"\"\"Implements the QAOA circuit with p layers.\"\"\"\n",
    "    for qubit in range(num_qubits):\n",
    "        qml.Hadamard(wires=qubit)\n",
    "\n",
    "    for layer in range(p):\n",
    "        gamma, beta = params[layer]\n",
    "        \n",
    "        # Apply the cost Hamiltonian evolution\n",
    "        for i, j in edges:\n",
    "            qml.CNOT(wires=[i, j])\n",
    "            qml.RZ(2 * gamma, wires=j)\n",
    "            qml.CNOT(wires=[i, j])\n",
    "\n",
    "        # Apply the mixer Hamiltonian evolution\n",
    "        for qubit in range(num_qubits):\n",
    "            qml.RX(2 * beta, wires=qubit)\n",
    "\n",
    "# Step 5: Set up the PennyLane device\n",
    "dev = qml.device(\"default.qubit\", wires=num_qubits)\n",
    "\n",
    "# Step 6: Create the QAOA quantum node\n",
    "@qml.qnode(dev)\n",
    "def qaoa_node(params, p):\n",
    "    qaoa_circuit(params, p)\n",
    "    return qml.expval(cost_hamiltonian())\n",
    "\n",
    "# Step 7: Optimize the QAOA parameters\n",
    "def optimize_qaoa(p=1, steps=100):\n",
    "    \"\"\"Optimizes the QAOA parameters using gradient descent.\"\"\"\n",
    "    # Initialize parameters as a NumPy array\n",
    "    params = np.random.uniform(0, np.pi, size=(p, 2), requires_grad=True)\n",
    "\n",
    "    # Define the optimizer\n",
    "    opt = qml.GradientDescentOptimizer(stepsize=0.1)\n",
    "\n",
    "    # Optimize the parameters\n",
    "    for i in range(steps):\n",
    "        params = opt.step(lambda x: qaoa_node(x, p), params)\n",
    "        if i % 10 == 0:\n",
    "            cost = qaoa_node(params, p)\n",
    "            print(f\"Step {i}: Cost = {cost}\")\n",
    "\n",
    "    return params\n",
    "\n",
    "# Step 8: Run the QAOA algorithm\n",
    "p = 1  # Number of QAOA layers\n",
    "optimized_params = optimize_qaoa(p=p, steps=100)\n",
    "\n",
    "# Step 9: Measure the final state\n",
    "@qml.qnode(dev)\n",
    "def measure_final_state(params, p):\n",
    "    qaoa_circuit(params, p)\n",
    "    return qml.probs(wires=range(num_qubits))\n",
    "\n",
    "final_probs = measure_final_state(optimized_params, p)\n",
    "print(\"Final probabilities of states:\", final_probs)\n",
    "\n",
    "# Step 10: Interpret the results\n",
    "best_state = np.argmax(final_probs)\n",
    "best_state_binary = format(best_state, f\"0{num_qubits}b\")\n",
    "print(f\"Best solution: {best_state_binary}\")\n",
    "\n",
    "# Step 11: Visualize the results\n",
    "plt.bar(range(len(final_probs)), final_probs)\n",
    "plt.xlabel(\"State\")\n",
    "plt.ylabel(\"Probability\")\n",
    "plt.title(\"QAOA Final State Probabilities\")\n",
    "plt.show()\n"
   ]
  },
  {
   "cell_type": "code",
   "execution_count": 13,
   "id": "494564d1-0dcb-4e39-a142-67486e93b7b2",
   "metadata": {},
   "outputs": [
    {
     "name": "stdout",
     "output_type": "stream",
     "text": [
      "Requirement already satisfied: pennylane in /opt/anaconda3/envs/quantum_start/lib/python3.12/site-packages (0.26.0)\n",
      "Requirement already satisfied: numpy in /opt/anaconda3/envs/quantum_start/lib/python3.12/site-packages (from pennylane) (2.2.2)\n",
      "Requirement already satisfied: scipy in /opt/anaconda3/envs/quantum_start/lib/python3.12/site-packages (from pennylane) (1.15.1)\n",
      "Requirement already satisfied: networkx in /opt/anaconda3/envs/quantum_start/lib/python3.12/site-packages (from pennylane) (3.4.2)\n",
      "Requirement already satisfied: retworkx in /opt/anaconda3/envs/quantum_start/lib/python3.12/site-packages (from pennylane) (0.16.0)\n",
      "Requirement already satisfied: autograd in /opt/anaconda3/envs/quantum_start/lib/python3.12/site-packages (from pennylane) (1.7.0)\n",
      "Requirement already satisfied: toml in /opt/anaconda3/envs/quantum_start/lib/python3.12/site-packages (from pennylane) (0.10.2)\n",
      "Requirement already satisfied: appdirs in /opt/anaconda3/envs/quantum_start/lib/python3.12/site-packages (from pennylane) (1.4.4)\n",
      "Requirement already satisfied: semantic-version>=2.7 in /opt/anaconda3/envs/quantum_start/lib/python3.12/site-packages (from pennylane) (2.10.0)\n",
      "Requirement already satisfied: autoray>=0.3.1 in /opt/anaconda3/envs/quantum_start/lib/python3.12/site-packages (from pennylane) (0.7.0)\n",
      "Requirement already satisfied: cachetools in /opt/anaconda3/envs/quantum_start/lib/python3.12/site-packages (from pennylane) (5.5.1)\n",
      "Requirement already satisfied: pennylane-lightning>=0.26 in /opt/anaconda3/envs/quantum_start/lib/python3.12/site-packages (from pennylane) (0.28.0)\n",
      "Requirement already satisfied: ninja in /opt/anaconda3/envs/quantum_start/lib/python3.12/site-packages (from pennylane-lightning>=0.26->pennylane) (1.11.1.3)\n",
      "Requirement already satisfied: rustworkx==0.16.0 in /opt/anaconda3/envs/quantum_start/lib/python3.12/site-packages (from retworkx->pennylane) (0.16.0)\n"
     ]
    }
   ],
   "source": [
    "!pip install pennylane\n"
   ]
  },
  {
   "cell_type": "code",
   "execution_count": null,
   "id": "0a062669-ad11-4e10-8054-a7c2d8bec2b0",
   "metadata": {},
   "outputs": [],
   "source": []
  }
 ],
 "metadata": {
  "kernelspec": {
   "display_name": "Python [conda env:quantum_start]",
   "language": "python",
   "name": "conda-env-quantum_start-py"
  },
  "language_info": {
   "codemirror_mode": {
    "name": "ipython",
    "version": 3
   },
   "file_extension": ".py",
   "mimetype": "text/x-python",
   "name": "python",
   "nbconvert_exporter": "python",
   "pygments_lexer": "ipython3",
   "version": "3.12.8"
  }
 },
 "nbformat": 4,
 "nbformat_minor": 5
}
